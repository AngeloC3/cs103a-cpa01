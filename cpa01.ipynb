{
 "cells": [
  {
   "cell_type": "markdown",
   "id": "28260733-f06c-4657-a067-777194258b2b",
   "metadata": {},
   "source": [
    "# CPA 01 \n",
    "Angelo Cataldo"
   ]
  },
  {
   "cell_type": "code",
   "execution_count": 2,
   "id": "61be5373-57e6-4495-ae83-ef2cdb418c6d",
   "metadata": {},
   "outputs": [],
   "source": [
    "import numpy as np\n",
    "import pandas as pd\n",
    "from matplotlib import pyplot as plt"
   ]
  },
  {
   "cell_type": "markdown",
   "id": "9b0ddb23-24ab-419d-ac14-4bb07d913cd0",
   "metadata": {},
   "source": [
    "# Reading the data !\n",
    "This data contains a list of video games that sold over 100 thousand copies"
   ]
  },
  {
   "cell_type": "code",
   "execution_count": 3,
   "id": "3664ad2b-3fc1-4c6a-b8cf-d4000c9f9ccd",
   "metadata": {},
   "outputs": [
    {
     "data": {
      "text/html": [
       "<div>\n",
       "<style scoped>\n",
       "    .dataframe tbody tr th:only-of-type {\n",
       "        vertical-align: middle;\n",
       "    }\n",
       "\n",
       "    .dataframe tbody tr th {\n",
       "        vertical-align: top;\n",
       "    }\n",
       "\n",
       "    .dataframe thead th {\n",
       "        text-align: right;\n",
       "    }\n",
       "</style>\n",
       "<table border=\"1\" class=\"dataframe\">\n",
       "  <thead>\n",
       "    <tr style=\"text-align: right;\">\n",
       "      <th></th>\n",
       "      <th>Rank</th>\n",
       "      <th>Name</th>\n",
       "      <th>Platform</th>\n",
       "      <th>Year</th>\n",
       "      <th>Genre</th>\n",
       "      <th>Publisher</th>\n",
       "      <th>NA_Sales</th>\n",
       "      <th>EU_Sales</th>\n",
       "      <th>JP_Sales</th>\n",
       "      <th>Other_Sales</th>\n",
       "      <th>Global_Sales</th>\n",
       "    </tr>\n",
       "  </thead>\n",
       "  <tbody>\n",
       "    <tr>\n",
       "      <th>0</th>\n",
       "      <td>1</td>\n",
       "      <td>Wii Sports</td>\n",
       "      <td>Wii</td>\n",
       "      <td>2006</td>\n",
       "      <td>Sports</td>\n",
       "      <td>Nintendo</td>\n",
       "      <td>41.49</td>\n",
       "      <td>29.02</td>\n",
       "      <td>3.77</td>\n",
       "      <td>8.46</td>\n",
       "      <td>82.74</td>\n",
       "    </tr>\n",
       "    <tr>\n",
       "      <th>1</th>\n",
       "      <td>2</td>\n",
       "      <td>Super Mario Bros.</td>\n",
       "      <td>NES</td>\n",
       "      <td>1985</td>\n",
       "      <td>Platform</td>\n",
       "      <td>Nintendo</td>\n",
       "      <td>29.08</td>\n",
       "      <td>3.58</td>\n",
       "      <td>6.81</td>\n",
       "      <td>0.77</td>\n",
       "      <td>40.24</td>\n",
       "    </tr>\n",
       "    <tr>\n",
       "      <th>2</th>\n",
       "      <td>3</td>\n",
       "      <td>Mario Kart Wii</td>\n",
       "      <td>Wii</td>\n",
       "      <td>2008</td>\n",
       "      <td>Racing</td>\n",
       "      <td>Nintendo</td>\n",
       "      <td>15.85</td>\n",
       "      <td>12.88</td>\n",
       "      <td>3.79</td>\n",
       "      <td>3.31</td>\n",
       "      <td>35.82</td>\n",
       "    </tr>\n",
       "    <tr>\n",
       "      <th>3</th>\n",
       "      <td>4</td>\n",
       "      <td>Wii Sports Resort</td>\n",
       "      <td>Wii</td>\n",
       "      <td>2009</td>\n",
       "      <td>Sports</td>\n",
       "      <td>Nintendo</td>\n",
       "      <td>15.75</td>\n",
       "      <td>11.01</td>\n",
       "      <td>3.28</td>\n",
       "      <td>2.96</td>\n",
       "      <td>33.00</td>\n",
       "    </tr>\n",
       "    <tr>\n",
       "      <th>4</th>\n",
       "      <td>5</td>\n",
       "      <td>Pokemon Red/Pokemon Blue</td>\n",
       "      <td>GB</td>\n",
       "      <td>1996</td>\n",
       "      <td>Role-Playing</td>\n",
       "      <td>Nintendo</td>\n",
       "      <td>11.27</td>\n",
       "      <td>8.89</td>\n",
       "      <td>10.22</td>\n",
       "      <td>1.00</td>\n",
       "      <td>31.37</td>\n",
       "    </tr>\n",
       "  </tbody>\n",
       "</table>\n",
       "</div>"
      ],
      "text/plain": [
       "   Rank                      Name Platform  Year         Genre Publisher  \\\n",
       "0     1                Wii Sports      Wii  2006        Sports  Nintendo   \n",
       "1     2         Super Mario Bros.      NES  1985      Platform  Nintendo   \n",
       "2     3            Mario Kart Wii      Wii  2008        Racing  Nintendo   \n",
       "3     4         Wii Sports Resort      Wii  2009        Sports  Nintendo   \n",
       "4     5  Pokemon Red/Pokemon Blue       GB  1996  Role-Playing  Nintendo   \n",
       "\n",
       "   NA_Sales  EU_Sales  JP_Sales  Other_Sales  Global_Sales  \n",
       "0     41.49     29.02      3.77         8.46         82.74  \n",
       "1     29.08      3.58      6.81         0.77         40.24  \n",
       "2     15.85     12.88      3.79         3.31         35.82  \n",
       "3     15.75     11.01      3.28         2.96         33.00  \n",
       "4     11.27      8.89     10.22         1.00         31.37  "
      ]
     },
     "execution_count": 3,
     "metadata": {},
     "output_type": "execute_result"
    }
   ],
   "source": [
    "gf = pd.read_csv('vgsales.csv')\n",
    "# This data set was obtained from https://www.kaggle.com/gregorut/videogamesales\n",
    "gf['Year'] = gf['Year'].fillna(-1).astype(int)\n",
    "gf.head(5)"
   ]
  },
  {
   "cell_type": "code",
   "execution_count": 4,
   "id": "b57d9b5b-b815-4c00-b468-0b625ef3bfe8",
   "metadata": {},
   "outputs": [
    {
     "data": {
      "text/html": [
       "<div>\n",
       "<style scoped>\n",
       "    .dataframe tbody tr th:only-of-type {\n",
       "        vertical-align: middle;\n",
       "    }\n",
       "\n",
       "    .dataframe tbody tr th {\n",
       "        vertical-align: top;\n",
       "    }\n",
       "\n",
       "    .dataframe thead th {\n",
       "        text-align: right;\n",
       "    }\n",
       "</style>\n",
       "<table border=\"1\" class=\"dataframe\">\n",
       "  <thead>\n",
       "    <tr style=\"text-align: right;\">\n",
       "      <th></th>\n",
       "      <th>Rank</th>\n",
       "      <th>Year</th>\n",
       "      <th>NA_Sales</th>\n",
       "      <th>EU_Sales</th>\n",
       "      <th>JP_Sales</th>\n",
       "      <th>Other_Sales</th>\n",
       "      <th>Global_Sales</th>\n",
       "    </tr>\n",
       "  </thead>\n",
       "  <tbody>\n",
       "    <tr>\n",
       "      <th>count</th>\n",
       "      <td>16598.000000</td>\n",
       "      <td>16598.000000</td>\n",
       "      <td>16598.000000</td>\n",
       "      <td>16598.000000</td>\n",
       "      <td>16598.000000</td>\n",
       "      <td>16598.000000</td>\n",
       "      <td>16598.000000</td>\n",
       "    </tr>\n",
       "    <tr>\n",
       "      <th>mean</th>\n",
       "      <td>8300.605254</td>\n",
       "      <td>1973.630980</td>\n",
       "      <td>0.264667</td>\n",
       "      <td>0.146652</td>\n",
       "      <td>0.077782</td>\n",
       "      <td>0.048063</td>\n",
       "      <td>0.537441</td>\n",
       "    </tr>\n",
       "    <tr>\n",
       "      <th>std</th>\n",
       "      <td>4791.853933</td>\n",
       "      <td>254.473511</td>\n",
       "      <td>0.816683</td>\n",
       "      <td>0.505351</td>\n",
       "      <td>0.309291</td>\n",
       "      <td>0.188588</td>\n",
       "      <td>1.555028</td>\n",
       "    </tr>\n",
       "    <tr>\n",
       "      <th>min</th>\n",
       "      <td>1.000000</td>\n",
       "      <td>-1.000000</td>\n",
       "      <td>0.000000</td>\n",
       "      <td>0.000000</td>\n",
       "      <td>0.000000</td>\n",
       "      <td>0.000000</td>\n",
       "      <td>0.010000</td>\n",
       "    </tr>\n",
       "    <tr>\n",
       "      <th>25%</th>\n",
       "      <td>4151.250000</td>\n",
       "      <td>2003.000000</td>\n",
       "      <td>0.000000</td>\n",
       "      <td>0.000000</td>\n",
       "      <td>0.000000</td>\n",
       "      <td>0.000000</td>\n",
       "      <td>0.060000</td>\n",
       "    </tr>\n",
       "    <tr>\n",
       "      <th>50%</th>\n",
       "      <td>8300.500000</td>\n",
       "      <td>2007.000000</td>\n",
       "      <td>0.080000</td>\n",
       "      <td>0.020000</td>\n",
       "      <td>0.000000</td>\n",
       "      <td>0.010000</td>\n",
       "      <td>0.170000</td>\n",
       "    </tr>\n",
       "    <tr>\n",
       "      <th>75%</th>\n",
       "      <td>12449.750000</td>\n",
       "      <td>2010.000000</td>\n",
       "      <td>0.240000</td>\n",
       "      <td>0.110000</td>\n",
       "      <td>0.040000</td>\n",
       "      <td>0.040000</td>\n",
       "      <td>0.470000</td>\n",
       "    </tr>\n",
       "    <tr>\n",
       "      <th>max</th>\n",
       "      <td>16600.000000</td>\n",
       "      <td>2020.000000</td>\n",
       "      <td>41.490000</td>\n",
       "      <td>29.020000</td>\n",
       "      <td>10.220000</td>\n",
       "      <td>10.570000</td>\n",
       "      <td>82.740000</td>\n",
       "    </tr>\n",
       "  </tbody>\n",
       "</table>\n",
       "</div>"
      ],
      "text/plain": [
       "               Rank          Year      NA_Sales      EU_Sales      JP_Sales  \\\n",
       "count  16598.000000  16598.000000  16598.000000  16598.000000  16598.000000   \n",
       "mean    8300.605254   1973.630980      0.264667      0.146652      0.077782   \n",
       "std     4791.853933    254.473511      0.816683      0.505351      0.309291   \n",
       "min        1.000000     -1.000000      0.000000      0.000000      0.000000   \n",
       "25%     4151.250000   2003.000000      0.000000      0.000000      0.000000   \n",
       "50%     8300.500000   2007.000000      0.080000      0.020000      0.000000   \n",
       "75%    12449.750000   2010.000000      0.240000      0.110000      0.040000   \n",
       "max    16600.000000   2020.000000     41.490000     29.020000     10.220000   \n",
       "\n",
       "        Other_Sales  Global_Sales  \n",
       "count  16598.000000  16598.000000  \n",
       "mean       0.048063      0.537441  \n",
       "std        0.188588      1.555028  \n",
       "min        0.000000      0.010000  \n",
       "25%        0.000000      0.060000  \n",
       "50%        0.010000      0.170000  \n",
       "75%        0.040000      0.470000  \n",
       "max       10.570000     82.740000  "
      ]
     },
     "execution_count": 4,
     "metadata": {},
     "output_type": "execute_result"
    }
   ],
   "source": [
    "gf.describe()"
   ]
  },
  {
   "cell_type": "markdown",
   "id": "725e5d22",
   "metadata": {},
   "source": [
    "# What years does this data set contain?"
   ]
  },
  {
   "cell_type": "code",
   "execution_count": 5,
   "id": "bb693632",
   "metadata": {},
   "outputs": [
    {
     "name": "stdout",
     "output_type": "stream",
     "text": [
      "This data set takes video games published in the years -1 to 2020\n"
     ]
    }
   ],
   "source": [
    "years = sorted(gf['Year'].unique())\n",
    "print('This data set takes video games published in the years', int(years[0]), 'to', int(years[len(years)-1]))"
   ]
  },
  {
   "cell_type": "markdown",
   "id": "64187286-1be3-4a94-895b-c19568913c50",
   "metadata": {},
   "source": [
    "# What platforms have the most total sales"
   ]
  },
  {
   "cell_type": "code",
   "execution_count": 6,
   "id": "93141be8-5157-488c-9c24-5dd8a426b4e8",
   "metadata": {},
   "outputs": [
    {
     "data": {
      "image/png": "[encoded data removed]",
      "text/plain": [
       "<Figure size 1080x720 with 1 Axes>"
      ]
     },
     "metadata": {
      "needs_background": "light"
     },
     "output_type": "display_data"
    }
   ],
   "source": [
    "totalSalesByPlatform = gf.groupby('Platform')['Global_Sales'].sum()\n",
    "totalSalesByPlatform = totalSalesByPlatform.sort_values(ascending=True)\n",
    "totalSalesByPlatform.plot(kind=\"bar\", figsize=(15,10))\n",
    "plt.xlabel(\"Gaming Platform\", fontsize=20)\n",
    "plt.xticks(fontsize=15)\n",
    "plt.ylabel(\"Sales in Millions\", fontsize=20)\n",
    "plt.yticks(fontsize=15)\n",
    "plt.title(\"Platform by sales\", fontsize=20)\n",
    "plt.grid()"
   ]
  },
  {
   "cell_type": "markdown",
   "id": "914fa475-65dd-4b2a-9803-d8723c6fea35",
   "metadata": {},
   "source": [
    "The golden era seems to be that which consisted of the Playstation, Nintendo DS, Nintendo Wii, Playstation 3, Xbox 360, and Playstation 2. These platforms all released from 1994-2006. Maybe after that era, the freshness and innovation of gaming diminished reducing the market to a more niche one.<br> </br>\n",
    "Most notably, the Playstation 2 is the clear frontrunner which came out in 2000 and was replaced by the Playstation 3 in 2006."
   ]
  },
  {
   "cell_type": "markdown",
   "id": "cb066b38-cc53-446c-89f5-26aa7ed67421",
   "metadata": {},
   "source": [
    "# Sales by the Year"
   ]
  },
  {
   "cell_type": "code",
   "execution_count": 14,
   "id": "9fe8b3f4-a0f3-49bf-a143-72c230e7c3a2",
   "metadata": {},
   "outputs": [
    {
     "data": {
      "text/plain": [
       "Year\n",
       "1980     11.38\n",
       "1981     35.77\n",
       "1982     28.86\n",
       "1983     16.79\n",
       "1984     50.36\n",
       "1985     53.94\n",
       "1986     37.07\n",
       "1987     21.74\n",
       "1988     47.22\n",
       "1989     73.45\n",
       "1990     49.39\n",
       "1991     32.23\n",
       "1992     76.16\n",
       "1993     45.98\n",
       "1994     79.17\n",
       "1995     88.11\n",
       "1996    199.15\n",
       "1997    200.98\n",
       "1998    256.47\n",
       "1999    251.27\n",
       "2000    201.56\n",
       "2001    331.47\n",
       "2002    395.52\n",
       "2003    357.85\n",
       "2004    419.31\n",
       "2005    459.94\n",
       "2006    521.04\n",
       "2007    611.13\n",
       "2008    678.90\n",
       "2009    667.30\n",
       "2010    600.45\n",
       "2011    515.99\n",
       "2012    363.54\n",
       "2013    368.11\n",
       "2014    337.05\n",
       "2015    264.44\n",
       "2016     70.93\n",
       "2017      0.05\n",
       "2020      0.29\n",
       "Name: Global_Sales, dtype: float64"
      ]
     },
     "execution_count": 14,
     "metadata": {},
     "output_type": "execute_result"
    }
   ],
   "source": [
    "totalSalesByYear = gf.groupby('Year')['Global_Sales'].sum()\n",
    "totalSalesByYear = totalSalesByYear.drop(-1)\n",
    "totalSalesByYear\n",
    "# totalSalesByYear.plot(kind=\"bar\", figsize=(15,10))\n",
    "# plt.xlabel(\"Year\",fontsize=20)\n",
    "# plt.xticks(fontsize=15)\n",
    "# plt.ylabel(\"Sales in Millions\", fontsize=20)\n",
    "# plt.yticks(fontsize=15)\n",
    "# plt.title(\"Year by sales\", fontsize=20)\n",
    "# plt.grid()"
   ]
  },
  {
   "cell_type": "code",
   "execution_count": null,
   "id": "118d07e0-27f3-47a8-ad1b-3bda34575295",
   "metadata": {},
   "outputs": [],
   "source": []
  }
 ],
 "metadata": {
  "kernelspec": {
   "display_name": "Python 3 (ipykernel)",
   "language": "python",
   "name": "python3"
  },
  "language_info": {
   "codemirror_mode": {
    "name": "ipython",
    "version": 3
   },
   "file_extension": ".py",
   "mimetype": "text/x-python",
   "name": "python",
   "nbconvert_exporter": "python",
   "pygments_lexer": "ipython3",
   "version": "3.10.2"
  }
 },
 "nbformat": 4,
 "nbformat_minor": 5
}
